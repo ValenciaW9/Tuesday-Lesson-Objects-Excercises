{
 "cells": [
  {
   "attachments": {},
   "cell_type": "markdown",
   "metadata": {},
   "source": [
    "# Object-Oriented-Programming (OOP)"
   ]
  },
  {
   "attachments": {},
   "cell_type": "markdown",
   "metadata": {},
   "source": [
    "## Tasks Today:\n",
    "\n",
    "   \n",
    "1) <b>Dunder Methods</b> <br>\n",
    " &nbsp;&nbsp;&nbsp;&nbsp; a) The \\__str\\__() Method <br>\n",
    " &nbsp;&nbsp;&nbsp;&nbsp; b) The \\__repr\\__() Method <br>\n",
    " &nbsp;&nbsp;&nbsp;&nbsp; c) Other Magic Methods <br>\n",
    " &nbsp;&nbsp;&nbsp;&nbsp; d) In-Class Exercise #1 - Create a class Animal that displays the species and animal name when printed <br>  \n",
    "2) <b>Inheritance</b> <br>\n",
    " &nbsp;&nbsp;&nbsp;&nbsp; a) Syntax for Inheriting from a Parent Class <br>\n",
    " &nbsp;&nbsp;&nbsp;&nbsp; b) The \\__init\\__() Method for a Child Class (super()) <br>\n",
    " &nbsp;&nbsp;&nbsp;&nbsp; c) Defining Attributes and Methods for the Child Class <br>\n",
    " &nbsp;&nbsp;&nbsp;&nbsp; d) Method Overriding <br>\n",
    " &nbsp;&nbsp;&nbsp;&nbsp; e) In-Class Exercise #2 - Create a class 'Ford' that inherits from 'Car' class and initialize it as a Blue Ford Explorer with 4 wheels using the super() method <br>\n",
    "3) <b>Modules</b> <br>\n",
    " &nbsp;&nbsp;&nbsp;&nbsp; a) Importing Modules<br>\n",
    " &nbsp;&nbsp;&nbsp;&nbsp; b) Importing from modules <br>\n",
    " &nbsp;&nbsp;&nbsp;&nbsp; c) Aliasing <br>\n",
    " &nbsp;&nbsp;&nbsp;&nbsp; d) Creating Modules <br>\n"
   ]
  },
  {
   "attachments": {},
   "cell_type": "markdown",
   "metadata": {},
   "source": [
    "### Warm Up"
   ]
  },
  {
   "attachments": {},
   "cell_type": "markdown",
   "metadata": {},
   "source": [
    "Create a class for a Book that has instance attributes for `title`, `author`, `num_of_pages`, and `price`. Each book instance should also have a `current_page` attribute that starts at 0. Add a method called `read` that takes in number of pages. The method should update what the current page is. If the `current_page` goes over the `num_of_pages`, print that the book is finished and reset the `current_page` to 0"
   ]
  },
  {
   "cell_type": "code",
   "execution_count": null,
   "metadata": {},
   "outputs": [],
   "source": [
    "class Book:\n",
    "    def __init__(self, title, author, num_of_pages, price):\n",
    "        self.title = title\n",
    "        self.author = author\n",
    "        self.num_of_pages = num_of_pages\n",
    "        self.price = price\n",
    "        self.current_page = 0\n",
    "\n",
    "    def read(self, pages):\n",
    "        self.current_page += pages\n",
    "        if self.current_page >= self.num_of_pages:\n",
    "            print(f\"{self.title} is finished!\")\n",
    "            self.current_page = 0\n"
   ]
  },
  {
   "cell_type": "code",
   "execution_count": null,
   "metadata": {},
   "outputs": [],
   "source": [
    "class Book:\n",
    "    def __init__(self, title, author, num_of_pages, price):\n",
    "        self.title = title\n",
    "        self.author = author\n",
    "        self.num_of_pages = num_of_pages\n",
    "        self.price = price\n",
    "        self.current_page = 0\n",
    "\n",
    "    def read(self, pages):\n",
    "        self.current_page += pages\n",
    "        if self.current_page >= self.num_of_pages:\n",
    "            print(f\"{self.title} is finished!\")\n",
    "            self.current_page = 0\n",
    "\n",
    "# Creating a book instance\n",
    "book = Book(\"The Midnight Library\", \"Matt Haig\", 288, 26.00)\n",
    "\n",
    "# Reading pages\n",
    "book.read(45)\n",
    "book.read(59)\n",
    "book.read(42)\n",
    "book.read(84)\n",
    "book.read(62)\n"
   ]
  },
  {
   "cell_type": "code",
   "execution_count": null,
   "metadata": {},
   "outputs": [],
   "source": [
    "# book = Book(\"The Midnight Library\", \"Matt Haig\", 288, 26.00)\n",
    "# book.read(45)\n",
    "# book.read(59)\n",
    "# book.read(42)\n",
    "# book.read(84)\n",
    "# book.read(62)"
   ]
  },
  {
   "cell_type": "code",
   "execution_count": null,
   "metadata": {},
   "outputs": [],
   "source": [
    "class Book:\n",
    "    def __init__(self, title, author, num_of_pages, price):\n",
    "        self.title = title\n",
    "        self.author = author\n",
    "        self.num_of_pages = num_of_pages\n",
    "        self.price = price\n",
    "        self.current_page = 0\n",
    "\n",
    "    def read(self, pages):\n",
    "        self.current_page += pages\n",
    "        if self.current_page >= self.num_of_pages:\n",
    "            print(f\"{self.title} is finished!\")\n",
    "            self.current_page = 0\n",
    "\n",
    "book = Book(\"The Midnight Library\", \"Matt Haig\", 288, 26.00)\n",
    "\n",
    "# Reading pages\n",
    "book.read(45).\n"
   ]
  },
  {
   "cell_type": "code",
   "execution_count": null,
   "metadata": {},
   "outputs": [],
   "source": [
    "class Book:\n",
    "    def __init__(self, title, author, num_of_pages, price):\n",
    "        self.title = title\n",
    "        self.author = author\n",
    "        self.num_of_pages = num_of_pages\n",
    "        self.price = price\n",
    "        self.current_page = 0\n",
    "\n",
    "    def read(self, pages):\n",
    "        self.current_page += pages\n",
    "        if self.current_page >= self.num_of_pages:\n",
    "            print(f\"{self.title} is finished!\")\n",
    "            self.current_page = 0\n",
    "    book = Book(\"The Midnight Library\", \"Matt Haig\",288, 26.00)\n",
    "# Reading pages\n",
    "book.read(59)."
   ]
  },
  {
   "cell_type": "code",
   "execution_count": null,
   "metadata": {},
   "outputs": [],
   "source": [
    "class Book:\n",
    "    def __init__(self, title, author, num_of_pages, price):\n",
    "        self.title = title\n",
    "        self.author = author\n",
    "        self.num_of_pages = num_of_pages\n",
    "        self.price = price\n",
    "        self.current_page = 0\n",
    "\n",
    "    def read(self, pages):\n",
    "        self.current_page += pages\n",
    "        if self.current_page >= self.num_of_pages:\n",
    "            print(f\"{self.title} is finished!\")\n",
    "            self.current_page = 0\n",
    "\n",
    "# Creating a book instance\n",
    "book = Book(\"The Midnight Library\", \"Matt Haig\", 288, 26.00)\n",
    "# Reading pages\n",
    "book.read(84)"
   ]
  },
  {
   "cell_type": "code",
   "execution_count": null,
   "metadata": {},
   "outputs": [],
   "source": [
    "class Book:\n",
    "    def __init__(self, title, author, num_of_pages, price):\n",
    "        self.title = title\n",
    "        self.author = author\n",
    "        self.num_of_pages = num_of_pages\n",
    "        self.price = price\n",
    "        self.current_page = 0\n",
    "\n",
    "    def read(self, pages):\n",
    "        self.current_page += pages\n",
    "        if self.current_page >= self.num_of_pages:\n",
    "            print(f\"{self.title} is finished!\")\n",
    "            self.current_page = 0\n",
    "\n",
    "# Creating a book instance\n",
    "book = Book(\"The Midnight Library\", \"Matt Haig\", 288, 26.00)\n",
    "# Reading pages\n",
    "book.read(62)\n",
    "\n"
   ]
  },
  {
   "attachments": {},
   "cell_type": "markdown",
   "metadata": {},
   "source": [
    "## Dunder Methods"
   ]
  },
  {
   "cell_type": "code",
   "execution_count": null,
   "metadata": {},
   "outputs": [],
   "source": [
    "class Car:\n",
    "    def __init__(self, color, make, model):\n",
    "        self.color = color\n",
    "        self.make = make\n",
    "        self.model = model\n",
    "        \n",
    "    def __str__(self):\n",
    "        return f\"{self.color} {self.make} {self.model}\"\n",
    "        \n",
    "        \n",
    "car1 = Car('green', 'Toyota', 'Corrola')\n",
    "car2 = Car('red', 'Ford', 'Mustang')\n",
    "\n",
    "print(car1)\n",
    "print(car2)"
   ]
  },
  {
   "attachments": {},
   "cell_type": "markdown",
   "metadata": {},
   "source": [
    "#### \\__str\\__()"
   ]
  },
  {
   "cell_type": "code",
   "execution_count": null,
   "metadata": {},
   "outputs": [],
   "source": [
    "print(f\"Do you like my new {car2}?\")"
   ]
  },
  {
   "cell_type": "code",
   "execution_count": null,
   "metadata": {},
   "outputs": [],
   "source": [
    "print(f\"Do you like my new {car2}?\")"
   ]
  },
  {
   "cell_type": "code",
   "execution_count": null,
   "metadata": {},
   "outputs": [],
   "source": [
    "str(car2)"
   ]
  },
  {
   "attachments": {},
   "cell_type": "markdown",
   "metadata": {},
   "source": [
    "#### \\__repr\\__()"
   ]
  },
  {
   "cell_type": "code",
   "execution_count": null,
   "metadata": {
    "scrolled": true
   },
   "outputs": [],
   "source": [
    "class Car:\n",
    "    def __init__(self, color, make, model):\n",
    "        self.color = color\n",
    "        self.make = make\n",
    "        self.model = model\n",
    "        \n",
    "    def __str__(self):\n",
    "        return f\"{self.color} {self.make} {self.model}\"\n",
    "    \n",
    "    def __repr__(self):\n",
    "        return f\"<Car | {self.make} {self.model}>\"\n",
    "        \n",
    "        \n",
    "car1 = Car('green', 'Toyota', 'Corrola')\n",
    "car2 = Car('red', 'Ford', 'Mustang')\n",
    "\n",
    "print(car1)\n",
    "print(car2)  "
   ]
  },
  {
   "cell_type": "code",
   "execution_count": null,
   "metadata": {},
   "outputs": [],
   "source": [
    "car1"
   ]
  },
  {
   "cell_type": "code",
   "execution_count": null,
   "metadata": {},
   "outputs": [],
   "source": [
    "car2"
   ]
  },
  {
   "cell_type": "code",
   "execution_count": null,
   "metadata": {},
   "outputs": [],
   "source": [
    "# If the __repr__() is defined but the __str__() is not, then __str__==__repr__\n",
    "\n",
    "class Car:\n",
    "    def __init__(self, color, make, model):\n",
    "        self.color = color\n",
    "        self.make = make\n",
    "        self.model = model\n",
    "    \n",
    "    def __repr__(self):\n",
    "        return f\"<Car | {self.make} {self.model}>\"\n",
    "        \n",
    "        \n",
    "car1 = Car('green', 'Toyota', 'Corrola')\n",
    "car2 = Car('red', 'Ford', 'Mustang')\n",
    "\n",
    "print(car1)\n",
    "print(car2) "
   ]
  },
  {
   "cell_type": "code",
   "execution_count": null,
   "metadata": {},
   "outputs": [],
   "source": [
    " class Car:\n",
    "    def __init__(self, color, make, model):\n",
    "        self.color = color\n",
    "        self.make = make\n",
    "        self.model = model\n",
    "        \n",
    "    def __str__(self):\n",
    "        return f\"{self.color} {self.make} {self.model}\"\n",
    "        \n",
    "        \n",
    "car1 = Car('green', 'Toyota', 'Corrola')\n",
    "car2 = Car('red', 'Ford', 'Mustang')\n",
    "\n",
    "print(car1)"
   ]
  },
  {
   "cell_type": "code",
   "execution_count": null,
   "metadata": {},
   "outputs": [],
   "source": [
    "car1\n"
   ]
  },
  {
   "attachments": {},
   "cell_type": "markdown",
   "metadata": {},
   "source": [
    "#### \\__lt\\__(), \\__lte\\__(), \\__eq\\__(), etc"
   ]
  },
  {
   "cell_type": "code",
   "execution_count": null,
   "metadata": {},
   "outputs": [],
   "source": [
    "class Product:\n",
    "    def __init__(self, name, price, quantity):\n",
    "        self.name = name\n",
    "        self.price = price\n",
    "        self.quantity = quantity\n",
    "        \n",
    "    def __str__(self):\n",
    "        return f\"{self.name}: ${self.price:.2f} x {self.quantity}\"\n",
    "    \n",
    "    def __repr__(self):\n",
    "        return f\"<Product|{self.name}>\"\n",
    "    \n",
    "    def __lt__(self, other_prod):\n",
    "        own_total = self.price * self.quantity\n",
    "        other_total = other_prod.price * other_prod.quantity\n",
    "        return own_total < other_total\n",
    "    \n",
    "    def __eq__(self, other_prod):\n",
    "        own_total = self.price * self.quantity\n",
    "        other_total = other_prod.price * other_prod.quantity\n",
    "        return own_total == other_total\n",
    "    \n",
    "    def __le__(self, other_prod):\n",
    "        own_total = self.price * self.quantity\n",
    "        other_total = other_prod.price * other_prod.quantity\n",
    "        return own_total <= other_total\n",
    "    \n",
    "\n",
    "    \n",
    "    \n",
    "prod1 = Product('Pen', 1.50, 3)\n",
    "print(prod1)\n",
    "prod2 = Product('Book', 26, 1)\n",
    "print(prod2)\n",
    "prod3 = Product('Water Bottle', 13, 2)"
   ]
  },
  {
   "cell_type": "code",
   "execution_count": null,
   "metadata": {},
   "outputs": [],
   "source": [
    "prod1 < prod2"
   ]
  },
  {
   "cell_type": "code",
   "execution_count": null,
   "metadata": {},
   "outputs": [],
   "source": [
    "prod2 == prod3"
   ]
  },
  {
   "cell_type": "code",
   "execution_count": null,
   "metadata": {},
   "outputs": [],
   "source": [
    "prod2 <= prod3"
   ]
  },
  {
   "cell_type": "code",
   "execution_count": null,
   "metadata": {
    "scrolled": true
   },
   "outputs": [],
   "source": [
    "help(str.__add__)"
   ]
  },
  {
   "cell_type": "code",
   "execution_count": null,
   "metadata": {},
   "outputs": [],
   "source": [
    "class MyStringType:\n",
    "    def __init__(self, val=None):\n",
    "        if val:\n",
    "            self.value = val\n",
    "        else:\n",
    "            self.value = ''\n",
    "            \n",
    "    def __add__(self, other):\n",
    "        if not isinstance(other, str):\n",
    "            raise TypeError(f\"can only concatenate str (not {type(other)}) to MyStringType\")\n",
    "        else:\n",
    "            return self.value + other\n",
    "        \n",
    "        \n",
    "test = MyStringType('test')\n",
    "\n",
    "test + '10'"
   ]
  },
  {
   "cell_type": "code",
   "execution_count": null,
   "metadata": {},
   "outputs": [],
   "source": [
    "class Post:\n",
    "    posts = []\n",
    "    id_counter = 1\n",
    "    \n",
    "    def __init__(self, title, body, author):\n",
    "        self.title = title\n",
    "        self.body = body\n",
    "        self.author = author\n",
    "        self.id = Post.id_counter\n",
    "        Post.id_counter += 1\n",
    "        Post.posts.append(self)\n",
    "        \n",
    "    def __repr__(self):\n",
    "        return f\"<Post {self.id}|{self.title}>\"\n",
    "    \n",
    "    def __str__(self):\n",
    "        formatted_post = f\"\"\"\n",
    "{self.title} by {self.author}\n",
    "{self.body}\n",
    "        \"\"\"\n",
    "        return formatted_post\n",
    "        "
   ]
  },
  {
   "cell_type": "code",
   "execution_count": null,
   "metadata": {},
   "outputs": [],
   "source": [
    "p1 = Post('First Post', 'This is my first post here. I hope you like it.', 'Brian')\n",
    "p2 = Post('Second Post', 'I do not know what else to say but I like to post here.', 'Brian')"
   ]
  },
  {
   "cell_type": "code",
   "execution_count": null,
   "metadata": {},
   "outputs": [],
   "source": [
    "Post.posts"
   ]
  },
  {
   "cell_type": "code",
   "execution_count": null,
   "metadata": {},
   "outputs": [],
   "source": [
    "for p in Post.posts:\n",
    "    print(p)"
   ]
  },
  {
   "attachments": {},
   "cell_type": "markdown",
   "metadata": {},
   "source": [
    "#### In-class Exercise 1"
   ]
  },
  {
   "cell_type": "code",
   "execution_count": null,
   "metadata": {},
   "outputs": [],
   "source": [
    "# Create a class Animal that displays the name and species when printed\n",
    "\n",
    "\n",
    "print(leo) # Leo the Lion\n",
    "\n",
    "print(buddy) # Buddy the Dog"
   ]
  },
  {
   "cell_type": "code",
   "execution_count": null,
   "metadata": {},
   "outputs": [],
   "source": [
    "class Animal:\n",
    "    def __init__(self, name, species):\n",
    "        self.name = name\n",
    "        self.species = species\n",
    "\n",
    "    def __str__(self):\n",
    "        return f\"{self.name} the {self.species}\"\n",
    "\n",
    "leo = Animal(\"Leo\", \"Lion\")\n",
    "buddy = Animal(\"Buddy\", \"Dog\")\n",
    "\n",
    "\n",
    "print(leo)   \n",
    "print(buddy) \n"
   ]
  },
  {
   "attachments": {},
   "cell_type": "markdown",
   "metadata": {},
   "source": [
    "## Inheritance <br>\n",
    "<p>You can create a child-parent relationship between two classes by using inheritance. What this allows you to do is have overriding methods, but also inherit traits from the parent class. Think of it as an actual parent and child, the child will inherit the parent's genes, as will the classes in OOP</p>"
   ]
  },
  {
   "attachments": {},
   "cell_type": "markdown",
   "metadata": {},
   "source": [
    "##### Syntax for Inheriting from a Parent Class"
   ]
  },
  {
   "cell_type": "code",
   "execution_count": null,
   "metadata": {},
   "outputs": [],
   "source": [
    "# Syntax: class Child(Parent):\n",
    "\n",
    "class Rectangle: # Parent Class\n",
    "    sides = 4 # Class Attribute\n",
    "    \n",
    "    def __init__(self, length, width):\n",
    "        self.length = length\n",
    "        self.width = width\n",
    "        \n",
    "    def __str__(self):\n",
    "        return f\"Length: {self.length} x Width: {self.width}\"\n",
    "    \n",
    "    def area(self):\n",
    "        print('This is the Rectangle area method')\n",
    "        return self.length * self.width\n",
    "    \n",
    "class Square(Rectangle):\n",
    "    def area(self):\n",
    "        print('This is Square area method')\n",
    "        return self.length **2\n",
    "    \n",
    "\n",
    "my_rectangle = Rectangle(10, 20)\n",
    "print(my_rectangle)\n",
    "print(my_rectangle.area())\n",
    "print('=' * 25)\n",
    "my_square = Square(10, 10)\n",
    "print(my_square)\n",
    "print(my_square.area())"
   ]
  },
  {
   "cell_type": "code",
   "execution_count": null,
   "metadata": {
    "scrolled": false
   },
   "outputs": [],
   "source": [
    "my_square.all_sides_equal"
   ]
  },
  {
   "attachments": {},
   "cell_type": "markdown",
   "metadata": {},
   "source": [
    "##### The \\__init\\__() Method for a Child Class - super()"
   ]
  },
  {
   "cell_type": "code",
   "execution_count": null,
   "metadata": {
    "scrolled": true
   },
   "outputs": [],
   "source": [
    "class Rectangle: # Parent Class\n",
    "    sides = 4 # Class Attribute\n",
    "    \n",
    "    def __init__(self, length, width):\n",
    "        print('This is the Rectangle __init__ method')\n",
    "        self.length = length\n",
    "        self.width = width\n",
    "        \n",
    "    def __str__(self):\n",
    "        return f\"Length: {self.length} x Width: {self.width}\"\n",
    "    \n",
    "    def area(self):\n",
    "        print('This is the Rectangle area method')\n",
    "        return self.length * self.width\n",
    "    \n",
    "class Square(Rectangle):\n",
    "    \n",
    "    def __init__(self, side):\n",
    "        print('This is the Square __init__ method')\n",
    "        super().__init__(side, side)\n",
    "        self.all_sides_equal = True\n",
    "    \n",
    "\n",
    "# my_rectangle = Rectangle(10, 20)\n",
    "# print(my_rectangle)\n",
    "# print(my_rectangle.area())\n",
    "# print('=' * 25)\n",
    "my_square = Square(10)\n",
    "print(my_square)\n"
   ]
  },
  {
   "cell_type": "code",
   "execution_count": null,
   "metadata": {},
   "outputs": [],
   "source": [
    "my_square.all_sides_equal"
   ]
  },
  {
   "cell_type": "code",
   "execution_count": null,
   "metadata": {
    "scrolled": true
   },
   "outputs": [],
   "source": [
    "class Triangle(Rectangle):\n",
    "    sides = 3 # Overriding class attribute\n",
    "    \n",
    "    def __init__(self, base, height):\n",
    "        print('This is the Triangle __init__ method')\n",
    "        super().__init__(base, height)\n",
    "        \n",
    "    def area(self):\n",
    "        print('This is the Triangle area method')\n",
    "        area = super().area()\n",
    "        return area / 2\n",
    "    \n",
    "    \n",
    "my_triangle = Triangle(10, 5)\n",
    "print(my_triangle)"
   ]
  },
  {
   "cell_type": "code",
   "execution_count": null,
   "metadata": {},
   "outputs": [],
   "source": [
    "my_triangle.area()"
   ]
  },
  {
   "cell_type": "code",
   "execution_count": null,
   "metadata": {},
   "outputs": [],
   "source": [
    "class Animal:\n",
    "    def __init__(self, name):\n",
    "        self.name = name\n",
    "        \n",
    "    def eat(self):\n",
    "        print(f'{self.name} is eating')\n",
    "        \n",
    "class LandAnimal(Animal):\n",
    "    def run_around(self):\n",
    "        print(f\"{self.name} is running around\")\n",
    "        \n",
    "class Dog(LandAnimal):\n",
    "    def go_for_a_walk(self):\n",
    "        print(f\"{self.name} is going for a walk\")\n",
    "        \n",
    "        \n",
    "class Lion(LandAnimal):\n",
    "    def hunt(self):\n",
    "        print(f\"{self.name} is hunting\")\n",
    "        \n",
    "        "
   ]
  },
  {
   "cell_type": "code",
   "execution_count": null,
   "metadata": {},
   "outputs": [],
   "source": [
    "buddy = Dog('Buddy')\n",
    "buddy.eat()\n",
    "buddy.run_around()\n",
    "buddy.go_for_a_walk()"
   ]
  },
  {
   "cell_type": "code",
   "execution_count": null,
   "metadata": {},
   "outputs": [],
   "source": [
    "help(Dog)"
   ]
  },
  {
   "cell_type": "code",
   "execution_count": null,
   "metadata": {},
   "outputs": [],
   "source": [
    "leo = Lion('Leo')\n",
    "leo.eat()\n",
    "leo.run_around()\n",
    "leo.hunt()"
   ]
  },
  {
   "attachments": {},
   "cell_type": "markdown",
   "metadata": {},
   "source": [
    "#### In-class Exercise 2"
   ]
  },
  {
   "attachments": {},
   "cell_type": "markdown",
   "metadata": {},
   "source": [
    "Create a Car class that has a drive and fill up method, and then create a Ford class that inherits from the car class."
   ]
  },
  {
   "cell_type": "code",
   "execution_count": null,
   "metadata": {},
   "outputs": [],
   "source": [
    "class Car:\n",
    "    def __init__(self, brand, color):\n",
    "        self.brand = brand\n",
    "        self.color = color\n",
    "        self.fuel = 0\n",
    "\n",
    "    def drive(self, distance):\n",
    "        if self.fuel >= distance:\n",
    "            print(f\"The {self.color} {self.brand} is driving for {distance} miles.\")\n",
    "            self.fuel -= distance\n",
    "        else:\n",
    "            print(\"Not enough fuel to drive that far.\")\n",
    "\n",
    "    def fill_up(self, fuel_amount):\n",
    "        print(f\"Adding {fuel_amount} gallons of fuel to the {self.color} {self.brand}.\")\n",
    "        self.fuel += fuel_amount\n",
    "\n",
    "\n",
    "class Ford(Car):\n",
    "    def __init__(self, color):\n",
    "        super().__init__(\"Ford\", color)\n",
    "\n",
    "\n",
    "# Creating instances of Car\n",
    "bmw = Car(\"BMW\", \"Pink\")\n",
    "audi = Car(\"Audi\", \"Blue\")\n",
    "lexus = Car(\"Lexus\", \"Silver\")\n",
    "\n",
    "# Creating instances of Ford (subclass of Car)\n",
    "ford_red = Ford(\"Red\")\n",
    "ford_black = Ford(\"Black\")\n",
    "\n",
    "# Using the methods\n",
    "bmw.fill_up(10)\n",
    "bmw.drive(20)\n",
    "\n",
    "audi.fill_up(15)\n",
    "audi.drive(50)\n",
    "\n",
    "lexus.fill_up(12)\n",
    "lexus.drive(10)\n",
    "\n",
    "ford_red.fill_up(8)\n",
    "ford_red.drive(30)\n",
    "\n",
    "ford_black.fill_up(5)\n",
    "ford_black.drive(15)\n"
   ]
  },
  {
   "cell_type": "code",
   "execution_count": null,
   "metadata": {},
   "outputs": [],
   "source": []
  },
  {
   "attachments": {},
   "cell_type": "markdown",
   "metadata": {},
   "source": [
    "## Modules"
   ]
  },
  {
   "attachments": {},
   "cell_type": "markdown",
   "metadata": {},
   "source": [
    "##### Importing Entire Modules"
   ]
  },
  {
   "cell_type": "code",
   "execution_count": null,
   "metadata": {},
   "outputs": [],
   "source": [
    "# import name_of_module\n",
    "\n",
    "import math\n",
    "\n",
    "print(math)\n",
    "\n",
    "# Syntax for accessing functions, classes, and variables:\n",
    "# module_name.var_name\n",
    "\n",
    "print(math.pi)\n",
    "print(math.factorial(5))"
   ]
  },
  {
   "cell_type": "code",
   "execution_count": null,
   "metadata": {},
   "outputs": [],
   "source": [
    "# import name_of_module\n",
    "\n",
    "\n",
    "# Syntax for accessing functions, classes, and variables:\n",
    "# module_name.var_name\n",
    "# import name_of_module\n",
    "#BMW,AUDI,LEXUS\n",
    "import BMW\n",
    "import AUDI\n",
    "import LEXUS\n",
    "\n",
    "# Accessing functions\n",
    "BMW.start_engine()\n",
    "AUDI.drive()\n",
    "LEXUS.stop()\n",
    "\n",
    "# Accessing classes\n",
    "bmw_instance = BMW.Car()\n",
    "audi_instance = AUDI.Car()\n",
    "lexus_instance = LEXUS.Car()\n",
    "\n",
    "# Accessing variables\n",
    "bmw_color = BMW.color\n",
    "audi_price = AUDI.price\n",
    "lexus_model = LEXUS.model\n"
   ]
  },
  {
   "attachments": {},
   "cell_type": "markdown",
   "metadata": {},
   "source": [
    "##### Importing Methods Only"
   ]
  },
  {
   "cell_type": "code",
   "execution_count": null,
   "metadata": {},
   "outputs": [],
   "source": [
    "# from module_name import class, function, constant, etc.\n"
   ]
  },
  {
   "cell_type": "code",
   "execution_count": null,
   "metadata": {},
   "outputs": [],
   "source": [
    "my_list = [23, 43, 65, 3, 234, 34, 45, 46, 324, 123, 24]\n",
    "\n",
    "print(mean(my_list))\n",
    "print(median(my_list))"
   ]
  },
  {
   "cell_type": "code",
   "execution_count": null,
   "metadata": {},
   "outputs": [],
   "source": [
    "# from module_name import class, function, constant, etc.\n",
    "\n",
    "from statistics import mean, median\n",
    "\n",
    "print(mean)\n",
    "print(median)\n",
    "\n",
    "print(statistics)"
   ]
  },
  {
   "attachments": {},
   "cell_type": "markdown",
   "metadata": {},
   "source": [
    "##### Using the 'as' Keyword"
   ]
  },
  {
   "cell_type": "code",
   "execution_count": null,
   "metadata": {},
   "outputs": [],
   "source": [
    "# import module as new_name\n",
    "# from module import function as f\n",
    "\n",
    "\n",
    "from random import randint as ri\n",
    "\n",
    "print(ri)\n",
    "print(ri(1,100))"
   ]
  },
  {
   "cell_type": "code",
   "execution_count": null,
   "metadata": {},
   "outputs": [],
   "source": [
    "print(ri(1,100))"
   ]
  },
  {
   "cell_type": "code",
   "execution_count": null,
   "metadata": {
    "scrolled": false
   },
   "outputs": [],
   "source": [
    "random.randint(1,100)"
   ]
  },
  {
   "cell_type": "code",
   "execution_count": null,
   "metadata": {},
   "outputs": [],
   "source": [
    "import collections as c\n",
    "\n",
    "print(c)\n",
    "\n",
    "test = c.Counter('hello my name is brian')\n",
    "\n",
    "print(test)"
   ]
  },
  {
   "cell_type": "code",
   "execution_count": null,
   "metadata": {},
   "outputs": [],
   "source": [
    "# import numpy as np\n",
    "# import pandas as pd\n",
    "# import matplotlib.pyplot as plt\n",
    "\n",
    "import numpy as np\n",
    "import pandas as pd\n",
    "import matplotlib.pyplot as plt\n",
    "\n",
    "# Example usage of NumPy\n",
    "arr = np.array([1, 2, 3, 4, 5])\n",
    "print(\"NumPy Array:\", arr)\n",
    "\n",
    "# Example usage of Pandas\n",
    "data = {'Name': ['John', 'Emily', 'Sam'],\n",
    "        'Age': [25, 30, 28]}\n",
    "df = pd.DataFrame(data)\n",
    "print(\"Pandas DataFrame:\")\n",
    "print(df)\n",
    "\n",
    "# Example usage of Matplotlib\n",
    "x = np.linspace(0, 10, 100)\n",
    "y = np.sin(x)\n",
    "plt.plot(x, y)\n",
    "plt.xlabel('x')\n",
    "plt.ylabel('sin(x)')\n",
    "plt.title('Sine Function')\n",
    "plt.show()\n"
   ]
  },
  {
   "cell_type": "code",
   "execution_count": null,
   "metadata": {},
   "outputs": [],
   "source": [
    "# Using VS Code\n",
    "\n",
    "import test_module"
   ]
  },
  {
   "cell_type": "code",
   "execution_count": null,
   "metadata": {},
   "outputs": [],
   "source": [
    "print(test_module)"
   ]
  },
  {
   "cell_type": "code",
   "execution_count": null,
   "metadata": {},
   "outputs": [],
   "source": [
    "test_module.greet('tatyana')"
   ]
  },
  {
   "cell_type": "code",
   "execution_count": null,
   "metadata": {},
   "outputs": [],
   "source": [
    "test_module.leave('tatyana')"
   ]
  },
  {
   "cell_type": "code",
   "execution_count": null,
   "metadata": {},
   "outputs": [],
   "source": [
    "from folder_module import say_hi"
   ]
  },
  {
   "cell_type": "code",
   "execution_count": null,
   "metadata": {},
   "outputs": [],
   "source": [
    "say_hi('brian')"
   ]
  },
  {
   "cell_type": "code",
   "execution_count": null,
   "metadata": {},
   "outputs": [],
   "source": [
    "import folder_module\n",
    "\n",
    "folder_module.Model"
   ]
  },
  {
   "cell_type": "code",
   "execution_count": null,
   "metadata": {},
   "outputs": [],
   "source": []
  }
 ],
 "metadata": {
  "kernelspec": {
   "display_name": "Python 3 (ipykernel)",
   "language": "python",
   "name": "python3"
  },
  "language_info": {
   "codemirror_mode": {
    "name": "ipython",
    "version": 3
   },
   "file_extension": ".py",
   "mimetype": "text/x-python",
   "name": "python",
   "nbconvert_exporter": "python",
   "pygments_lexer": "ipython3",
   "version": "3.10.9"
  }
 },
 "nbformat": 4,
 "nbformat_minor": 2
}
